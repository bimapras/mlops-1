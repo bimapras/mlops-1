{
 "cells": [
  {
   "cell_type": "code",
   "execution_count": 14,
   "metadata": {},
   "outputs": [],
   "source": [
    "import tensorflow as tf\n",
    "import pandas as pd\n",
    "import os\n",
    "import requests\n",
    "import json\n",
    "import base64"
   ]
  },
  {
   "cell_type": "code",
   "execution_count": 50,
   "metadata": {},
   "outputs": [
    {
     "data": {
      "text/plain": [
       "21    Get ready for our flash sale! Limited-time off...\n",
       "Name: email, dtype: object"
      ]
     },
     "execution_count": 50,
     "metadata": {},
     "output_type": "execute_result"
    }
   ],
   "source": [
    "df = pd.read_csv(os.path.join('data', 'new_spam.csv'))['email']\n",
    "pred = df.sample(1)\n",
    "pred"
   ]
  },
  {
   "cell_type": "code",
   "execution_count": 51,
   "metadata": {},
   "outputs": [],
   "source": [
    "def prepare_json(text):\n",
    "    feature_spec = {\n",
    "        \"email\": tf.train.Feature(bytes_list=tf.train.BytesList(value=[bytes(text, \"utf-8\")]))\n",
    "    }\n",
    "    \n",
    "    example = tf.train.Example(\n",
    "        features=tf.train.Features(feature=feature_spec)\n",
    "    ).SerializeToString()\n",
    "    \n",
    "    result = [\n",
    "        {\n",
    "            \"examples\": {\n",
    "                \"b64\": base64.b64encode(example).decode()\n",
    "            }\n",
    "        }\n",
    "    ]\n",
    "    \n",
    "    return json.dumps({\n",
    "        \"signature_name\": \"serving_default\",\n",
    "        \"instances\": result\n",
    "    })"
   ]
  },
  {
   "cell_type": "code",
   "execution_count": 52,
   "metadata": {},
   "outputs": [],
   "source": [
    "def make_predictions(text):\n",
    "    json_data = prepare_json(text)\n",
    "    \n",
    "    endpoint = \"http://localhost:10001/v1/models/spam-detection-model:predict\"\n",
    "    response = requests.post(endpoint, data=json_data)\n",
    "\n",
    "    prediction = response.json()[\"predictions\"][0][0]\n",
    "    return \"Berita Faktual\" if prediction > 0.9 else \"Berita Palsu\""
   ]
  },
  {
   "cell_type": "code",
   "execution_count": 53,
   "metadata": {},
   "outputs": [
    {
     "data": {
      "text/plain": [
       "'Berita Palsu'"
      ]
     },
     "execution_count": 53,
     "metadata": {},
     "output_type": "execute_result"
    }
   ],
   "source": [
    "make_predictions(pred.values[0])"
   ]
  }
 ],
 "metadata": {
  "kernelspec": {
   "display_name": "mlops-conda",
   "language": "python",
   "name": "python3"
  },
  "language_info": {
   "codemirror_mode": {
    "name": "ipython",
    "version": 3
   },
   "file_extension": ".py",
   "mimetype": "text/x-python",
   "name": "python",
   "nbconvert_exporter": "python",
   "pygments_lexer": "ipython3",
   "version": "3.9.15"
  }
 },
 "nbformat": 4,
 "nbformat_minor": 2
}
